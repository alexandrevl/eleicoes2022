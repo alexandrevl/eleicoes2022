{
 "cells": [
  {
   "cell_type": "code",
   "execution_count": 1,
   "metadata": {},
   "outputs": [],
   "source": [
    "from urllib.request import urlopen, Request \n",
    "import urllib\n",
    "import time\n",
    "import pandas as pd\n",
    "import json\n",
    "from flatten_json import flatten\n",
    "import random"
   ]
  },
  {
   "cell_type": "code",
   "execution_count": 3,
   "metadata": {},
   "outputs": [
    {
     "name": "stdout",
     "output_type": "stream",
     "text": [
      "{'ele': '544', 'tpabr': 'br', 'cdabr': 'br', 'carper': '1', 'md': 'N', 't': '1', 'f': 'o', 'dg': '02/10/2022', 'hg': '15:31:49', 'dt': '', 'ht': '', 'dv': 's', 'tf': 'n', 'v': '1', 'esae': 'n', 'mnae': '', 's': '472075', 'st': '0', 'pst': '0,00', 'snt': '472075', 'psnt': '100,00', 'si': '0', 'psi': '0,00', 'sni': '0', 'psni': '0,00', 'sa': '0', 'psa': '0,00', 'sna': '0', 'psna': '0,00', 'e': '156454011', 'ea': '0', 'pea': '0,00', 'ena': '0', 'pena': '0,00', 'esi': '0', 'pesi': '0,00', 'esni': '0', 'pesni': '0,00', 'c': '0', 'pc': '0,00', 'a': '0', 'pa': '0,00', 'vscv': '0', 'vnom': '0', 'pvnom': '00,00', 'vvc': '0', 'pvvc': '00,00', 'vb': '0', 'pvb': '00,00', 'tvn': '0', 'ptvn': '00,00', 'vn': '0', 'pvn': '00,00', 'vnt': '0', 'pvnt': '00,00', 'vp': '0', 'pvp': '00,00', 'vv': '0', 'pvv': '00,00', 'van': '0', 'pvan': '00,00', 'vansj': '0', 'pvansj': '00,00', 'tv': '0', 'cand': [{'seq': '1', 'sqcand': '280001677435', 'n': '27', 'nm': 'CONSTITUINTE EYMAEL', 'cc': 'DC', 'nv': 'PROFESSOR BRAVO', 'e': 'n', 'st': '', 'dvt': 'Válido', 'vap': '0', 'pvap': '00,00'}, {'seq': '2', 'sqcand': '280001607829', 'n': '13', 'nm': 'LULA', 'cc': 'PT - Federação Brasil da Esperança - FE BRASIL (PT/PC do B/PV) / SOLIDARIEDADE / Federação PSOL REDE (PSOL/REDE) / PSB / AGIR / AVANTE / PROS', 'nv': 'GERALDO ALCKMIN', 'e': 'n', 'st': '', 'dvt': 'Válido', 'vap': '0', 'pvap': '00,00'}, {'seq': '3', 'sqcand': '280001618036', 'n': '22', 'nm': 'JAIR BOLSONARO', 'cc': 'PL - PP / REPUBLICANOS / PL', 'nv': 'BRAGA NETTO', 'e': 'n', 'st': '', 'dvt': 'Válido', 'vap': '0', 'pvap': '00,00'}, {'seq': '4', 'sqcand': '280001612393', 'n': '12', 'nm': 'CIRO GOMES', 'cc': 'PDT', 'nv': 'ANA PAULA MATOS', 'e': 'n', 'st': '', 'dvt': 'Válido', 'vap': '0', 'pvap': '00,00'}, {'seq': '5', 'sqcand': '280001603612', 'n': '30', 'nm': 'FELIPE D&apos;AVILA', 'cc': 'NOVO', 'nv': 'TIAGO MITRAUD', 'e': 'n', 'st': '', 'dvt': 'Válido', 'vap': '0', 'pvap': '00,00'}, {'seq': '6', 'sqcand': '280001607831', 'n': '16', 'nm': 'VERA', 'cc': 'PSTU', 'nv': 'RAQUEL TREMEMBÉ', 'e': 'n', 'st': '', 'dvt': 'Válido', 'vap': '0', 'pvap': '00,00'}, {'seq': '7', 'sqcand': '280001607833', 'n': '15', 'nm': 'SIMONE TEBET', 'cc': 'MDB - MDB / Federação PSDB Cidadania (PSDB/CIDADANIA) / PODE', 'nv': 'MARA GABRILLI', 'e': 'n', 'st': '', 'dvt': 'Válido', 'vap': '0', 'pvap': '00,00'}, {'seq': '8', 'sqcand': '280001600167', 'n': '21', 'nm': 'SOFIA MANZANO', 'cc': 'PCB', 'nv': 'ANTONIO ALVES', 'e': 'n', 'st': '', 'dvt': 'Válido', 'vap': '0', 'pvap': '00,00'}, {'seq': '9', 'sqcand': '280001644128', 'n': '44', 'nm': 'SORAYA THRONICKE', 'cc': 'UNIÃO', 'nv': 'MARCOS CINTRA', 'e': 'n', 'st': '', 'dvt': 'Válido', 'vap': '0', 'pvap': '00,00'}, {'seq': '10', 'sqcand': '280001734029', 'n': '14', 'nm': 'PADRE KELMON', 'cc': 'PTB', 'nv': 'PASTOR GAMONAL', 'e': 'n', 'st': '', 'dvt': 'Válido', 'vap': '0', 'pvap': '00,00'}, {'seq': '11', 'sqcand': '280001602702', 'n': '80', 'nm': 'LÉO PÉRICLES', 'cc': 'UP', 'nv': 'SAMARA MARTINS', 'e': 'n', 'st': '', 'dvt': 'Válido', 'vap': '0', 'pvap': '00,00'}]}\n"
     ]
    }
   ],
   "source": [
    "req = Request(f'https://resultados.tse.jus.br/oficial/ele2022/544/dados-simplificados/br/br-c0001-e000544-r.json')\n",
    "try:\n",
    "    res = urlopen(req).read()\n",
    "    data = json.loads(res)\n",
    "    print(data)\n",
    "except urllib.error.HTTPError as e:\n",
    "    print(e)"
   ]
  }
 ],
 "metadata": {
  "kernelspec": {
   "display_name": "Python 3.9.14 64-bit",
   "language": "python",
   "name": "python3"
  },
  "language_info": {
   "codemirror_mode": {
    "name": "ipython",
    "version": 3
   },
   "file_extension": ".py",
   "mimetype": "text/x-python",
   "name": "python",
   "nbconvert_exporter": "python",
   "pygments_lexer": "ipython3",
   "version": "3.9.14"
  },
  "orig_nbformat": 4,
  "vscode": {
   "interpreter": {
    "hash": "a665b5d41d17b532ea9890333293a1b812fa0b73c9c25c950b3cedf1bebd0438"
   }
  }
 },
 "nbformat": 4,
 "nbformat_minor": 2
}
